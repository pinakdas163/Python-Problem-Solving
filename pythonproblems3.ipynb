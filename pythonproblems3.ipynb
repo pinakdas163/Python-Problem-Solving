{
 "cells": [
  {
   "cell_type": "code",
   "execution_count": 5,
   "metadata": {
    "collapsed": false
   },
   "outputs": [
    {
     "name": "stdout",
     "output_type": "stream",
     "text": [
      "*\n",
      "\n",
      "**\n",
      "\n",
      "***\n",
      "\n",
      "****\n",
      "\n"
     ]
    }
   ],
   "source": [
    "def func(n):\n",
    "    for i in range(1,n+1):\n",
    "        for j in range(i):\n",
    "            print('*', end=\"\")\n",
    "        print('\\n')\n",
    "func(4)"
   ]
  },
  {
   "cell_type": "code",
   "execution_count": 18,
   "metadata": {
    "collapsed": false
   },
   "outputs": [
    {
     "name": "stdout",
     "output_type": "stream",
     "text": [
      "* * * * * * * \n",
      "\n",
      "  * * * * * \n",
      "\n",
      "    * * * \n",
      "\n",
      "      * \n",
      "\n"
     ]
    }
   ],
   "source": [
    "# print reverse triangle\n",
    "def newfunc(n):\n",
    "    for i in range(n,0,-1):\n",
    "        for j in range(n-i):\n",
    "            print ('  ', end=\"\")\n",
    "        for j in range(2*i-1,0,-1):\n",
    "            print('* ', end=\"\")\n",
    "        print('\\n')\n",
    "newfunc(4)"
   ]
  },
  {
   "cell_type": "code",
   "execution_count": 23,
   "metadata": {
    "collapsed": false
   },
   "outputs": [
    {
     "name": "stdout",
     "output_type": "stream",
     "text": [
      "0\n",
      "1\n",
      "1\n",
      "2\n",
      "3\n",
      "5\n",
      "8\n"
     ]
    }
   ],
   "source": [
    "#fibonacci\n",
    "a=0\n",
    "b=1\n",
    "while a <= 12:\n",
    "    c=a+b\n",
    "    print(a)\n",
    "    a=b\n",
    "    b=c"
   ]
  },
  {
   "cell_type": "code",
   "execution_count": null,
   "metadata": {
    "collapsed": false
   },
   "outputs": [],
   "source": []
  },
  {
   "cell_type": "code",
   "execution_count": null,
   "metadata": {
    "collapsed": true
   },
   "outputs": [],
   "source": []
  },
  {
   "cell_type": "code",
   "execution_count": null,
   "metadata": {
    "collapsed": true
   },
   "outputs": [],
   "source": []
  },
  {
   "cell_type": "code",
   "execution_count": 5,
   "metadata": {
    "collapsed": false
   },
   "outputs": [
    {
     "data": {
      "text/plain": [
       "4"
      ]
     },
     "execution_count": 5,
     "metadata": {},
     "output_type": "execute_result"
    }
   ],
   "source": [
    "# find the longest sequence of zeros in binary representation of integer\n",
    "def solution(N):\n",
    "    return len(max(format(N, 'b').strip('0').split('1')))\n",
    "solution(529)"
   ]
  },
  {
   "cell_type": "code",
   "execution_count": 9,
   "metadata": {
    "collapsed": false
   },
   "outputs": [
    {
     "name": "stdout",
     "output_type": "stream",
     "text": [
      "[4, 3, 2, 1]\n"
     ]
    }
   ],
   "source": [
    "# reverse an array\n",
    "def reverse(arr):\n",
    "    N=len(arr)\n",
    "    k=N-1\n",
    "    for i in range(0,N//2):\n",
    "        p=k-i\n",
    "        arr[i],arr[p]=arr[p], arr[i]\n",
    "    return arr\n",
    "\n",
    "print(reverse([1,2,3,4]))\n"
   ]
  },
  {
   "cell_type": "code",
   "execution_count": null,
   "metadata": {
    "collapsed": false,
    "scrolled": true
   },
   "outputs": [],
   "source": []
  },
  {
   "cell_type": "code",
   "execution_count": 39,
   "metadata": {
    "collapsed": false
   },
   "outputs": [
    {
     "name": "stdout",
     "output_type": "stream",
     "text": [
      "5\n"
     ]
    }
   ],
   "source": [
    "# find the number occuring only once in the array in O(nlogn)\n",
    "def solution(arr):\n",
    "    countbits=[0]*32\n",
    "    num=0\n",
    "    for i in range(0,len(arr)):\n",
    "        for j in range(32):\n",
    "            jthbit= 1<<j\n",
    "            if (arr[i] & jthbit) == jthbit:\n",
    "                countbits[j]+=1\n",
    "            jthbit=0\n",
    "    for i in range(0,len(countbits)):\n",
    "        countbits[i]=countbits[i]%2\n",
    "        if countbits[i]==1:\n",
    "            num = num | (1<<i)\n",
    "    return num\n",
    "print (solution([9,3,9,5,3]))"
   ]
  },
  {
   "cell_type": "code",
   "execution_count": 44,
   "metadata": {
    "collapsed": false
   },
   "outputs": [
    {
     "name": "stdout",
     "output_type": "stream",
     "text": [
      "1\n"
     ]
    }
   ],
   "source": [
    "# find the number occuring only once in the array in O(n)\n",
    "def solution1(arr):\n",
    "    num=0\n",
    "    for i in range(32):\n",
    "        val=1<<i\n",
    "        sum1=0\n",
    "        for j in range(0,len(arr)):\n",
    "            if arr[j] & val:\n",
    "                sum1+=1\n",
    "        sum1=sum1%2\n",
    "        if sum1==1:\n",
    "            num=num|(1<<i)\n",
    "    return num\n",
    "print (solution1([4,3,4,1,3]))"
   ]
  },
  {
   "cell_type": "code",
   "execution_count": 3,
   "metadata": {
    "collapsed": false
   },
   "outputs": [
    {
     "name": "stdout",
     "output_type": "stream",
     "text": [
      "[6, 3, 8, 9, 7]\n"
     ]
    }
   ],
   "source": [
    "# right rotate of an array\n",
    "def newsol(arr, k):\n",
    "    l=len(arr)\n",
    "    li=[]\n",
    "    for i in range(0,l):\n",
    "        p=i+k\n",
    "        t=p%l\n",
    "        li.insert(t,arr[i])\n",
    "    return li\n",
    "print(newsol([3,8,9,7,6],1))"
   ]
  },
  {
   "cell_type": "code",
   "execution_count": null,
   "metadata": {
    "collapsed": true
   },
   "outputs": [],
   "source": []
  }
 ],
 "metadata": {
  "anaconda-cloud": {},
  "kernelspec": {
   "display_name": "Python [conda root]",
   "language": "python",
   "name": "conda-root-py"
  },
  "language_info": {
   "codemirror_mode": {
    "name": "ipython",
    "version": 3
   },
   "file_extension": ".py",
   "mimetype": "text/x-python",
   "name": "python",
   "nbconvert_exporter": "python",
   "pygments_lexer": "ipython3",
   "version": "3.5.2"
  }
 },
 "nbformat": 4,
 "nbformat_minor": 1
}
