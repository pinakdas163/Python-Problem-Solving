{
 "cells": [
  {
   "cell_type": "markdown",
   "metadata": {},
   "source": [
    "Tic Tac Toe game"
   ]
  },
  {
   "cell_type": "markdown",
   "metadata": {},
   "source": []
  },
  {
   "cell_type": "markdown",
   "metadata": {},
   "source": [
    "**Step 1: Write a function that can print out a board. Set up your board as a list, where each index 1-9 corresponds with a number on a number pad, so you get a 3 by 3 board representation.**"
   ]
  },
  {
   "cell_type": "code",
   "execution_count": 2,
   "metadata": {},
   "outputs": [],
   "source": [
    "from IPython.display import clear_output\n",
    "\n",
    "def display_board(board):\n",
    "    clear_output()\n",
    "    print(f'{board[7]}|{board[8]}|{board[9]}')\n",
    "    print('-|-|-')\n",
    "    print(f'{board[4]}|{board[5]}|{board[6]}')\n",
    "    print('-|-|-')\n",
    "    print(f'{board[1]}|{board[2]}|{board[3]}')"
   ]
  },
  {
   "cell_type": "markdown",
   "metadata": {},
   "source": [
    "**TEST Step 1:** run your function on a test version of the board list, and make adjustments as necessary"
   ]
  },
  {
   "cell_type": "code",
   "execution_count": 3,
   "metadata": {},
   "outputs": [
    {
     "name": "stdout",
     "output_type": "stream",
     "text": [
      "X|O|X\n",
      "-|-|-\n",
      "O|X|O\n",
      "-|-|-\n",
      "X|O|X\n"
     ]
    }
   ],
   "source": [
    "test_board = ['#','X','O','X','O','X','O','X','O','X']\n",
    "display_board(test_board)"
   ]
  },
  {
   "cell_type": "markdown",
   "metadata": {},
   "source": [
    "**Step 2: Write a function that can take in a player input and assign their marker as 'X' or 'O'. Think about using *while* loops to continually ask until you get a correct answer.**"
   ]
  },
  {
   "cell_type": "code",
   "execution_count": 4,
   "metadata": {},
   "outputs": [],
   "source": [
    "def player_input():\n",
    "    marker = ''\n",
    "    while marker != 'X' and marker != 'O':\n",
    "        marker = input(\"Player one type your marker 'X' or 'O'\").upper()\n",
    "    player1 = marker    \n",
    "    if marker == 'X':\n",
    "        player2 = 'O'\n",
    "    else:\n",
    "        player2 = 'X'\n",
    "    return (player1, player2)    "
   ]
  },
  {
   "cell_type": "markdown",
   "metadata": {},
   "source": [
    "**TEST Step 2:** run the function to make sure it returns the desired output"
   ]
  },
  {
   "cell_type": "code",
   "execution_count": 5,
   "metadata": {},
   "outputs": [],
   "source": [
    "#player_input()"
   ]
  },
  {
   "cell_type": "markdown",
   "metadata": {},
   "source": [
    "**Step 3: Write a function that takes in the board list object, a marker ('X' or 'O'), and a desired position (number 1-9) and assigns it to the board.**"
   ]
  },
  {
   "cell_type": "code",
   "execution_count": 6,
   "metadata": {},
   "outputs": [],
   "source": [
    "def place_marker(board, marker, position):\n",
    "    board[position] = marker\n",
    "    return board"
   ]
  },
  {
   "cell_type": "markdown",
   "metadata": {},
   "source": [
    "**TEST Step 3:** run the place marker function using test parameters and display the modified board"
   ]
  },
  {
   "cell_type": "code",
   "execution_count": 7,
   "metadata": {},
   "outputs": [
    {
     "name": "stdout",
     "output_type": "stream",
     "text": [
      " | | \n",
      "-|-|-\n",
      "X| | \n",
      "-|-|-\n",
      " | | \n"
     ]
    }
   ],
   "source": [
    "test_board = ['#',' ',' ',' ',' ',' ',' ',' ',' ',' ']\n",
    "test_board = place_marker(test_board,'X',4)\n",
    "display_board(test_board)"
   ]
  },
  {
   "cell_type": "markdown",
   "metadata": {},
   "source": [
    "**Step 4: Write a function that takes in a board and a mark (X or O) and then checks to see if that mark has won. **"
   ]
  },
  {
   "cell_type": "code",
   "execution_count": 8,
   "metadata": {},
   "outputs": [],
   "source": [
    "def myChecker(li, mark):\n",
    "    for i in li:\n",
    "        if i != mark:\n",
    "            return False\n",
    "    return li\n",
    "\n",
    "def win_check(board, mark):\n",
    "    li = []\n",
    "    for piece in range(1, 4):\n",
    "        li.append(board[piece])\n",
    "    check = myChecker(li, mark)\n",
    "    if check: return True\n",
    "    li = []\n",
    "    for piece in range(1, 8, 3):\n",
    "        li.append(board[piece])\n",
    "    check = myChecker(li, mark)\n",
    "    if check: return True\n",
    "    li = []\n",
    "    for piece in range(1, 10, 4):\n",
    "        li.append(board[piece])\n",
    "    check = myChecker(li, mark)\n",
    "    if check: return True\n",
    "   \n",
    "    li = []\n",
    "    for piece in range(2, 9, 3):\n",
    "        li.append(board[piece])\n",
    "    check = myChecker(li, mark)    \n",
    "    if check: return True\n",
    "    li = []\n",
    "    for piece in range(3, 10, 3):\n",
    "        li.append(board[piece])\n",
    "    check = myChecker(li, mark)    \n",
    "    if check: return True\n",
    "    li = []\n",
    "    for piece in range(3, 8, 2):\n",
    "        li.append(board[piece])\n",
    "    check = myChecker(li, mark)    \n",
    "    if check: return True\n",
    "    li = []\n",
    "    for piece in range(4, 7):\n",
    "        li.append(board[piece])\n",
    "    check = myChecker(li, mark)    \n",
    "    if check: return True\n",
    "    li = []\n",
    "    for piece in range(7, 10):\n",
    "        li.append(board[piece])\n",
    "    check = myChecker(li, mark)\n",
    "    if check: return True\n",
    "    return False"
   ]
  },
  {
   "cell_type": "markdown",
   "metadata": {},
   "source": [
    "**TEST Step 4:** run the win_check function against our test_board - it should return True"
   ]
  },
  {
   "cell_type": "code",
   "execution_count": 9,
   "metadata": {},
   "outputs": [
    {
     "data": {
      "text/plain": [
       "True"
      ]
     },
     "execution_count": 9,
     "metadata": {},
     "output_type": "execute_result"
    }
   ],
   "source": [
    "test_board = ['#','X','O','X','O','X','O','X','O','O']\n",
    "win_check(test_board,'X')"
   ]
  },
  {
   "cell_type": "markdown",
   "metadata": {},
   "source": [
    "**Step 5: Write a function that uses the random module to randomly decide which player goes first. You may want to lookup random.randint() Return a string of which player went first.**"
   ]
  },
  {
   "cell_type": "code",
   "execution_count": 10,
   "metadata": {},
   "outputs": [],
   "source": [
    "from random import randint\n",
    "\n",
    "def choose_first():\n",
    "    rand = randint(1, 2)\n",
    "    if rand == 1:\n",
    "        return 'Player One'\n",
    "    else:\n",
    "        return 'Player Two'"
   ]
  },
  {
   "cell_type": "code",
   "execution_count": 11,
   "metadata": {},
   "outputs": [
    {
     "data": {
      "text/plain": [
       "'Player Two'"
      ]
     },
     "execution_count": 11,
     "metadata": {},
     "output_type": "execute_result"
    }
   ],
   "source": [
    "choose_first()"
   ]
  },
  {
   "cell_type": "markdown",
   "metadata": {},
   "source": [
    "**Step 6: Write a function that returns a boolean indicating whether a space on the board is freely available.**"
   ]
  },
  {
   "cell_type": "code",
   "execution_count": 12,
   "metadata": {},
   "outputs": [],
   "source": [
    "def space_check(board, position):\n",
    "    if board[position] == ' ':\n",
    "        return True\n",
    "    else:\n",
    "        return False"
   ]
  },
  {
   "cell_type": "markdown",
   "metadata": {},
   "source": [
    "**Step 7: Write a function that checks if the board is full and returns a boolean value. True if full, False otherwise.**"
   ]
  },
  {
   "cell_type": "code",
   "execution_count": 13,
   "metadata": {},
   "outputs": [],
   "source": [
    "def full_board_check(board):\n",
    "    for i in range(2, len(board)):\n",
    "        if board[i] == ' ':\n",
    "            return False\n",
    "    return True"
   ]
  },
  {
   "cell_type": "code",
   "execution_count": 14,
   "metadata": {},
   "outputs": [
    {
     "data": {
      "text/plain": [
       "True"
      ]
     },
     "execution_count": 14,
     "metadata": {},
     "output_type": "execute_result"
    }
   ],
   "source": [
    "test_board = ['#','X','O','X','O','X','O','X','O','O']\n",
    "full_board_check(test_board)"
   ]
  },
  {
   "cell_type": "markdown",
   "metadata": {},
   "source": [
    "**Step 8: Write a function that asks for a player's next position (as a number 1-9) and then uses the function from step 6 to check if it's a free position. If it is, then return the position for later use.**"
   ]
  },
  {
   "cell_type": "code",
   "execution_count": 15,
   "metadata": {},
   "outputs": [],
   "source": [
    "def player_choice(board):\n",
    "    userinput = int(input(\"Enter the position in the board\"))\n",
    "    spaceCheck = space_check(board, userinput)\n",
    "    if spaceCheck:\n",
    "        return userinput\n",
    "    else:\n",
    "        return False"
   ]
  },
  {
   "cell_type": "markdown",
   "metadata": {},
   "source": [
    "**Step 9: Write a function that asks the player if they want to play again and returns a boolean True if they do want to play again.**"
   ]
  },
  {
   "cell_type": "code",
   "execution_count": 16,
   "metadata": {},
   "outputs": [],
   "source": [
    "def replay():\n",
    "    playAgain = input('Wanna play again? Type Yes/No').lower()\n",
    "    if playAgain == 'yes':\n",
    "        return True\n",
    "    else:\n",
    "        return False"
   ]
  },
  {
   "cell_type": "markdown",
   "metadata": {
    "collapsed": true
   },
   "source": [
    "**Step 10: Here comes the hard part! Use while loops and the functions you've made to run the game!**"
   ]
  },
  {
   "cell_type": "code",
   "execution_count": null,
   "metadata": {},
   "outputs": [],
   "source": [
    "print('Welcome to Tic Tac Toe!')\n",
    "while True:\n",
    "    playerInput = player_input()\n",
    "    player1 = playerInput[0]\n",
    "    player2 = playerInput[1]\n",
    "    board = ['#',' ',' ',' ',' ',' ',' ',' ',' ',' ']\n",
    "    display_board(board)\n",
    "    turn = choose_first()\n",
    "    \n",
    "    while full_board_check(board) == False:\n",
    "        if turn == 'Player One':\n",
    "            place = False\n",
    "            print(\"Player One turn: \")\n",
    "            while place == False:\n",
    "                place = player_choice(board)\n",
    "                \n",
    "            board = place_marker(board,player1,place)\n",
    "            display_board(board)\n",
    "            if win_check(board,player1):\n",
    "                print(\"Player One won!\")\n",
    "                break\n",
    "            else:    \n",
    "                turn = 'Player Two'\n",
    "                \n",
    "        elif turn == 'Player Two':\n",
    "            place = False\n",
    "            print(\"Player Two turn: \")\n",
    "            while place == False:\n",
    "                place = player_choice(board)\n",
    "                \n",
    "            board = place_marker(board,player2,place)\n",
    "            display_board(board)\n",
    "            if win_check(board,player2):\n",
    "                print(\"Player Two won!\")\n",
    "                break\n",
    "            else:    \n",
    "                turn = 'Player One'\n",
    "    if replay() == False:\n",
    "        break"
   ]
  },
  {
   "cell_type": "code",
   "execution_count": null,
   "metadata": {},
   "outputs": [],
   "source": []
  },
  {
   "cell_type": "code",
   "execution_count": null,
   "metadata": {},
   "outputs": [],
   "source": []
  }
 ],
 "metadata": {
  "kernelspec": {
   "display_name": "Python 3",
   "language": "python",
   "name": "python3"
  }
 },
 "nbformat": 4,
 "nbformat_minor": 1
}
