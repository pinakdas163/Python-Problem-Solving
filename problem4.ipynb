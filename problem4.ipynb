{
 "cells": [
  {
   "cell_type": "code",
   "execution_count": 2,
   "metadata": {
    "collapsed": false
   },
   "outputs": [
    {
     "name": "stdout",
     "output_type": "stream",
     "text": [
      "gppUcbmm\n"
     ]
    }
   ],
   "source": [
    "def is_vowel(c):\n",
    "    vowels='aeiou'\n",
    "    return c in vowels\n",
    "\n",
    "def LetterChanges(strv): \n",
    "    li=[]\n",
    "    # code goes here\n",
    "    for i in range(0,len(strv)):\n",
    "        \n",
    "        if strv[i].isalpha():\n",
    "            c=chr(ord(strv[i]) + 1)\n",
    "            if is_vowel(c):\n",
    "                c=c.upper()\n",
    "                li.append(c)\n",
    "            else:\n",
    "                li.append(c)\n",
    "        else:\n",
    "            li.append(strv[i])\n",
    "    strv=\"\".join(li)\n",
    "   \n",
    "    return strv\n",
    "    \n",
    "# keep this function call here  \n",
    "print (LetterChanges(\"football\"))"
   ]
  },
  {
   "cell_type": "code",
   "execution_count": 5,
   "metadata": {
    "collapsed": false
   },
   "outputs": [
    {
     "name": "stdout",
     "output_type": "stream",
     "text": [
      "rrdrdrdd\n"
     ]
    }
   ],
   "source": [
    "#find the correct path in the 5x5 matrix if a given string is given for movement with missing steps\n",
    "def CorrectPath(strv): \n",
    "    t, v= 0, 0\n",
    "    li = list(strv)\n",
    "    d=li.count('d')\n",
    "    r=li.count('r')\n",
    "    u=li.count('u')\n",
    "    l=li.count('l')\n",
    "    ques=li.count('?')\n",
    "    reqdD=4\n",
    "    currentD=abs(d-u)\n",
    "    reqdR=4\n",
    "    currentR=abs(r-l)\n",
    "\n",
    "    for i in range(0,len(li)):\n",
    "        if li[i]=='r':\n",
    "            v+=1\n",
    "        if li[i]=='l':\n",
    "            v-=1\n",
    "        if li[i]=='d':\n",
    "            t+=1\n",
    "        if li[i]=='u':\n",
    "            t-=1\n",
    "        if li[i]=='?' and reqdD > currentD and t!=4:\n",
    "            li[i]='d'\n",
    "            ques=-1\n",
    "            currentD+=1\n",
    "            t+=1\n",
    "        elif li[i]=='?' and reqdR > currentR and v!=4:\n",
    "            li[i]='r'\n",
    "            ques=-1\n",
    "            currentR+=1\n",
    "            v+=1\n",
    "        elif li[i]=='?' and reqdD < currentD and t!=0:\n",
    "            li[i]='u'\n",
    "            ques=-1\n",
    "            currentD-=1\n",
    "            t-=1\n",
    "        elif li[i]=='?' and reqdR < currentR and v!=0:\n",
    "            li[i]='l'\n",
    "            ques=-1\n",
    "            currentR-=1\n",
    "            v-=1\n",
    "        elif li[i]=='?' and reqdD == currentD and reqdR == currentR and t!=0:\n",
    "            li[i]='u'\n",
    "            ques-=1\n",
    "            currentD-=1\n",
    "            t-=1\n",
    "        elif li[i]=='?' and reqdD == currentD and reqdR == currentR and v!=4:\n",
    "            li[i]='r'\n",
    "            ques-=1\n",
    "            v+=1\n",
    "            currentR+=1\n",
    "            \n",
    "    strv=\"\".join(li)\n",
    "    return strv\n",
    "    \n",
    "# keep this function call here  \n",
    "print (CorrectPath(\"r?d?drdd\"))"
   ]
  },
  {
   "cell_type": "code",
   "execution_count": 6,
   "metadata": {
    "collapsed": false
   },
   "outputs": [
    {
     "name": "stdout",
     "output_type": "stream",
     "text": [
      "true\n"
     ]
    }
   ],
   "source": [
    "# check if there are three numbers which adds upto the first number in the array\n",
    "def ThreeSum(arr): \n",
    "\n",
    "    # code goes here\n",
    "    sum=arr[0]\n",
    "    del arr[0]\n",
    "    arr.sort()\n",
    "    for i in range(0, len(arr)-2):\n",
    "        l=i+1\n",
    "        r=len(arr)-1\n",
    "        while l<r:\n",
    "            if arr[i]+arr[l]+arr[r]==sum:\n",
    "                return 'true'\n",
    "            elif arr[i]+arr[l]+arr[r]<sum:\n",
    "                l+=1\n",
    "            else:\n",
    "                r-=1\n",
    "    \n",
    "    return 'false'\n",
    "    \n",
    "# keep this function call here  \n",
    "print (ThreeSum([8, 2, 1, 4, 10, 5, -1, -1]))"
   ]
  },
  {
   "cell_type": "code",
   "execution_count": null,
   "metadata": {
    "collapsed": true
   },
   "outputs": [],
   "source": [
    "# Longest increasing subsequence in an array\n",
    "def CeilIndex(arr, T, end, s):\n",
    "    start=0\n",
    "    length=end\n",
    "    while start<=end:\n",
    "        mid=(start+end)/2\n",
    "        if mid<length and arr[T[mid]] < s and s <= arr[T[mid+1]]:\n",
    "            return mid+1\n",
    "        elif arr[T[mid]] < s:\n",
    "            start=mid+1\n",
    "        else:\n",
    "            end=mid-1\n",
    "    return -1\n",
    "\n",
    "def LongestIncreasingSequence(arr): \n",
    "\n",
    "    # code goes here\n",
    "    val=len(arr)\n",
    "    T=[]\n",
    "    R=[]\n",
    "    T.insert(0,0)\n",
    "    length=0\n",
    "    for i in range(0, val):\n",
    "        R.append(-1)\n",
    "    for i in range(1, val):\n",
    "        if arr[T[0]] > arr[i]:\n",
    "            T.insert(0,i)\n",
    "        elif arr[T[length]] < arr[i]:\n",
    "            length+=1\n",
    "            T.insert(length, i)\n",
    "            R.insert(T[length], T[length-1])\n",
    "        else:\n",
    "            index = CeilIndex(arr, T, length, arr[i])\n",
    "            T.insert(index, i)\n",
    "            R.insert(T[index], T[index-1])\n",
    "    \n",
    "    return length+1\n",
    "    \n",
    "# keep this function call here  \n",
    "print LongestIncreasingSequence(raw_input())"
   ]
  },
  {
   "cell_type": "code",
   "execution_count": null,
   "metadata": {
    "collapsed": true
   },
   "outputs": [],
   "source": [
    "# roman numericals to number conversion\n",
    "def BasicRomanNumerals(strv): \n",
    "\n",
    "    # code goes here\n",
    "    mydic={'I':1, 'V':5, 'X':10, 'L':50, 'C':100, 'D':500, 'M':1000};\n",
    "    curr=0\n",
    "    prev=0\n",
    "    res=0\n",
    "    for i in strv[::-1]:\n",
    "        curr=mydic[i]\n",
    "        if curr < prev:\n",
    "            res+=prev-curr\n",
    "            prev=0\n",
    "        else:\n",
    "            res+=prev\n",
    "            prev=curr\n",
    "    \n",
    "    return res+prev\n",
    "    \n",
    "# keep this function call here  \n",
    "print BasicRomanNumerals(raw_input())"
   ]
  },
  {
   "cell_type": "code",
   "execution_count": null,
   "metadata": {
    "collapsed": true
   },
   "outputs": [],
   "source": [
    "# find if a string can be made palindrome if one or two characters are removed from the string\n",
    "def PalindromeCreator(strv): \n",
    "    #return strv[:2]+strv[3:]\n",
    "    st=''\n",
    "    str1=strv\n",
    "    i=0\n",
    "    if(strv==strv[::-1]):\n",
    "       return 'palindrome'\n",
    "    while i<len(strv):\n",
    "\n",
    "        if strv.count(strv[i])==1:\n",
    "            \n",
    "            if  i==0 or i==len(strv)-1:\n",
    "                str1 = strv[:i] + strv[i+1:]\n",
    "                st+=strv[i]\n",
    "                i-=1\n",
    "            elif strv[i-1]!=strv[i+1]:\n",
    "                str1 = strv[:i] + strv[i+1:]\n",
    "                st+=strv[i]\n",
    "                i-=1\n",
    "                \n",
    "        if len(st)>2:\n",
    "            return 'not possible'\n",
    "        if str1==str1[::-1]:\n",
    "            if len(str1)==2:\n",
    "                return 'not possible'\n",
    "            else:\n",
    "                return st\n",
    "        \n",
    "        strv=str1\n",
    "        i+=1\n",
    "        \n",
    "    \n",
    "# keep this function call here  \n",
    "print PalindromeCreator(raw_input())"
   ]
  },
  {
   "cell_type": "code",
   "execution_count": null,
   "metadata": {
    "collapsed": true
   },
   "outputs": [],
   "source": [
    "# find a pair of numbers in the array which adds up to the first number in the array\n",
    "from collections import OrderedDict\n",
    "from collections import defaultdict\n",
    "def TwoSum(arr): \n",
    "\n",
    "    # code goes here\n",
    "    n1=arr[0]\n",
    "    #d1=OrderedDict()\n",
    "    stre=''\n",
    "    d1=OrderedDict(defaultdict(lambda:0))\n",
    "    li=[]\n",
    "    for i in range(1, len(arr)):  \n",
    "        diff=n1-arr[i]\n",
    "        d1[arr[i]]=diff\n",
    "    for i in range(1, len(arr)):\n",
    "        if arr[i] not in li and arr.count(d1[arr[i]])>0 and d1[arr[i]]!=arr[i]:\n",
    "            li.append((arr[i]))\n",
    "            li.append((d1[arr[i]]))\n",
    "            stre+=str(arr[i])+','+str(d1[arr[i]])+' '\n",
    "        \n",
    "    if len(li)==0:\n",
    "        return -1\n",
    "    #stre= ','.join(str(e) for e in li)\n",
    "    return stre\n",
    "\n",
    "    \n",
    "# keep this function call here  \n",
    "print TwoSum(raw_input())"
   ]
  },
  {
   "cell_type": "code",
   "execution_count": null,
   "metadata": {
    "collapsed": true
   },
   "outputs": [],
   "source": [
    "# first non repeating character in the string\n",
    "from collections import OrderedDict\n",
    "def NonrepeatingCharacter(str): \n",
    "\n",
    "    # code goes here \n",
    "    new_dic=OrderedDict()\n",
    "        \n",
    "    for i in str:\n",
    "        if not i in new_dic:\n",
    "            new_dic[i]=1\n",
    "        else:\n",
    "            new_dic[i]+=1\n",
    "    \n",
    "    #return new_dic\n",
    "    for j,v in new_dic.items():\n",
    "        if v==1:\n",
    "            return j\n",
    "    \n",
    "# keep this function call here  \n",
    "print NonrepeatingCharacter(raw_input())"
   ]
  },
  {
   "cell_type": "code",
   "execution_count": null,
   "metadata": {
    "collapsed": true
   },
   "outputs": [],
   "source": [
    "# find the largest double digit number within the given number\n",
    "def LargestPair(num): \n",
    "\n",
    "    # code goes here \n",
    "    st=str(num)\n",
    "    strv=st[:2]\n",
    "    #return strv\n",
    "    num=int(strv)\n",
    "    for i in range(0, len(st)):\n",
    "        if i<(len(st)-1):\n",
    "            strb=st[i:i+2]\n",
    "            num2=int(strb)\n",
    "            if num2>num:\n",
    "                num=num2\n",
    "    return num\n",
    "    \n",
    "# keep this function call here  \n",
    "print LargestPair(raw_input())"
   ]
  },
  {
   "cell_type": "code",
   "execution_count": null,
   "metadata": {
    "collapsed": true
   },
   "outputs": [],
   "source": [
    "# find adjacent even pair numbers in the given string\n",
    "def EvenPairs(str): \n",
    "\n",
    "    # code goes here \n",
    "    li=[]\n",
    "    stre=\"false\"\n",
    "    for i in range(0,len(str)):\n",
    "        if str[i].isdigit():\n",
    "            if int(str[i])%2==0:\n",
    "                if i<(len(str)-1) and str[i+1].isdigit():\n",
    "                    if int(str[i+1])%2==0:\n",
    "                        stre=\"true\"\n",
    "                    else:\n",
    "                        if i<(len(str)-2):\n",
    "                            if(str[i+2].isdigit()):\n",
    "                                if(int(str[i+2])%2==0 and i<(len(str)-2)):\n",
    "                                    stre=\"true\"\n",
    "    \n",
    "                \n",
    "    return stre\n",
    "\n",
    "    \n",
    "# keep this function call here  \n",
    "print EvenPairs(raw_input())"
   ]
  },
  {
   "cell_type": "code",
   "execution_count": null,
   "metadata": {
    "collapsed": true
   },
   "outputs": [],
   "source": [
    "# make the array as wave sort eg: [0, 1, 2, 4, 1, 4], then a possible wave ordering of the numbers is: [2, 0, 4, 1, 4, 1]\n",
    "def WaveSorting(arr): \n",
    "\n",
    "    # code goes here \n",
    "    newlist=sorted(arr)\n",
    "    \n",
    "    \n",
    "    #return newlist\n",
    "    for i in range(0,len(newlist)-1, 2):\n",
    "        newlist[i], newlist[i+1] = newlist[i+1], newlist[i]\n",
    "    \n",
    "    # i.e., arr[0] >= arr[1] <= arr[2] >= arr[3] <= arr[4] >= arr[5]\n",
    "    #return newlist\n",
    "    T=\"true\"\n",
    "    \n",
    "    if not newlist[0]>=newlist[1]:\n",
    "        return \"false\"\n",
    "    \n",
    "    if len(newlist)%2==0:\n",
    "        if not newlist[len(newlist)-1]<=newlist[len(newlist)-2]:\n",
    "            return \"false\"\n",
    "    else:\n",
    "         if not newlist[len(newlist)-1]>=newlist[len(newlist)-2]:\n",
    "            return \"false\"\n",
    "        \n",
    "    for j in range(1, len(newlist)-1,2):\n",
    "        if not newlist[j-1]>=newlist[j]<=newlist[j+1]:\n",
    "            T=\"false\"\n",
    "            \n",
    "    return T\n",
    "    \n",
    "# keep this function call here  \n",
    "print WaveSorting(raw_input())"
   ]
  },
  {
   "cell_type": "code",
   "execution_count": null,
   "metadata": {
    "collapsed": true
   },
   "outputs": [],
   "source": [
    "# find the least number of digits required to find the product of the given number\n",
    "def size(num):\n",
    "    return len(str(num))\n",
    "\n",
    "def ProductDigits(num): \n",
    "\n",
    "    # code goes here \n",
    "    #shortestsize=0\n",
    "    for i in range(2, num):\n",
    "        if num%i==0 and size(num/i) < size(num):\n",
    "            return (size(i)+size(num/i))\n",
    "    \n",
    "    \n",
    "    return size(num)+1\n",
    "    \n",
    "# keep this function call here  \n",
    "print ProductDigits(raw_input())"
   ]
  },
  {
   "cell_type": "code",
   "execution_count": null,
   "metadata": {
    "collapsed": true
   },
   "outputs": [],
   "source": [
    "#find number of times you must multiply the digits in num until you reach a single digit. For example: if num is 39\n",
    "#then your program should return 3 because 3 * 9 = 27 then 2 * 7 = 14 and finally 1 * 4 = 4 and you stop at 4. \n",
    "def MultiplicativePersistence(num): \n",
    "\n",
    "    # code goes here \n",
    "    count=0\n",
    "    num_str = str(num)\n",
    "    \n",
    "    while(True):\n",
    "        mul=1\n",
    "        if len(num_str)>1:\n",
    "            for i in range(0, len(num_str)):\n",
    "                mul *= int(num_str[i])\n",
    "            count+=1\n",
    "\n",
    "        if len(str(mul))<2:\n",
    "            return count\n",
    "            break\n",
    "        else:\n",
    "            num_str=str(mul)\n",
    "    \n",
    "    \n",
    "# keep this function call here  \n",
    "print MultiplicativePersistence(raw_input())"
   ]
  }
 ],
 "metadata": {
  "kernelspec": {
   "display_name": "Python [default]",
   "language": "python",
   "name": "python3"
  },
  "language_info": {
   "codemirror_mode": {
    "name": "ipython",
    "version": 3
   },
   "file_extension": ".py",
   "mimetype": "text/x-python",
   "name": "python",
   "nbconvert_exporter": "python",
   "pygments_lexer": "ipython3",
   "version": "3.5.2"
  }
 },
 "nbformat": 4,
 "nbformat_minor": 1
}
